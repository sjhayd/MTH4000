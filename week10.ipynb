https://raw.githubusercontent.com/T-Prellberg/MTH4000_test_4/main/week10.ipynb
